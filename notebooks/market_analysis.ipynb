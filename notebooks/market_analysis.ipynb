{
 "cells": [
  {
   "cell_type": "code",
   "execution_count": null,
   "id": "7cd1ed43",
   "metadata": {
    "vscode": {
     "languageId": "plaintext"
    }
   },
   "outputs": [],
   "source": [
    "# Cell 1: Setup\n",
    "import pandas as pd\n",
    "import numpy as np\n",
    "import matplotlib.pyplot as plt\n",
    "import seaborn as sns\n",
    "import sys\n",
    "import os\n",
    "\n",
    "# Add the parent directory to path\n",
    "sys.path.append('..')\n",
    "\n",
    "# Import our classes using absolute paths\n",
    "import yfinance as yf"
   ]
  },
  {
   "cell_type": "code",
   "execution_count": null,
   "id": "09b1ea17",
   "metadata": {
    "vscode": {
     "languageId": "plaintext"
    }
   },
   "outputs": [],
   "source": [
    "# Cell 2: Download data directly\n",
    "symbols = ['AAPL', 'GOOGL', 'MSFT', 'TSLA', 'NVDA']\n",
    "for symbol in symbols:\n",
    "    try:\n",
    "        stock = yf.Ticker(symbol)\n",
    "        df = stock.history(period=\"1y\")\n",
    "        df.to_csv(f'../data/raw/{symbol}_1y.csv')\n",
    "        print(f\"✅ Downloaded {len(df)} rows for {symbol}\")\n",
    "    except Exception as e:\n",
    "        print(f\"❌ Error with {symbol}: {e}\")"
   ]
  },
  {
   "cell_type": "code",
   "execution_count": null,
   "id": "09c45274",
   "metadata": {
    "vscode": {
     "languageId": "plaintext"
    }
   },
   "outputs": [],
   "source": [
    "# Cell 3: Feature engineering\n",
    "def prepare_features(df):\n",
    "    \"\"\"Complete feature preparation pipeline\"\"\"\n",
    "    # Moving averages\n",
    "    df['SMA_20'] = df['Close'].rolling(window=20).mean()\n",
    "    df['SMA_50'] = df['Close'].rolling(window=50).mean()\n",
    "    \n",
    "    # MACD\n",
    "    exp1 = df['Close'].ewm(span=12).mean()\n",
    "    exp2 = df['Close'].ewm(span=26).mean()\n",
    "    df['MACD'] = exp1 - exp2\n",
    "    df['MACD_signal'] = df['MACD'].ewm(span=9).mean()\n",
    "    df['MACD_diff'] = df['MACD'] - df['MACD_signal']\n",
    "    \n",
    "    # RSI calculation\n",
    "    delta = df['Close'].diff()\n",
    "    gain = (delta.where(delta > 0, 0)).rolling(window=14).mean()\n",
    "    loss = (-delta.where(delta < 0, 0)).rolling(window=14).mean()\n",
    "    rs = gain / loss\n",
    "    df['RSI'] = 100 - (100 / (1 + rs))\n",
    "    \n",
    "    # Bollinger Bands\n",
    "    df['BB_middle'] = df['Close'].rolling(window=20).mean()\n",
    "    bb_std = df['Close'].rolling(window=20).std()\n",
    "    df['BB_upper'] = df['BB_middle'] + (bb_std * 2)\n",
    "    df['BB_lower'] = df['BB_middle'] - (bb_std * 2)\n",
    "    \n",
    "    # Price patterns\n",
    "    df['price_change_1d'] = df['Close'].pct_change(1)\n",
    "    df['price_change_5d'] = df['Close'].pct_change(5)\n",
    "    df['volume_ratio'] = df['Volume'] / df['Volume'].rolling(window=20).mean()\n",
    "    \n",
    "    # Target variable\n",
    "    df['future_price'] = df['Close'].shift(-5)\n",
    "    df['price_change_future'] = (df['future_price'] - df['Close']) / df['Close']\n",
    "    df['target'] = np.where(df['price_change_future'] > 0.02, 1, 0)\n",
    "    \n",
    "    return df.dropna()"
   ]
  },
  {
   "cell_type": "code",
   "execution_count": null,
   "id": "8f5a4b23",
   "metadata": {
    "vscode": {
     "languageId": "plaintext"
    }
   },
   "outputs": [],
   "source": [
    "# Get ticker and time period from user\n",
    "ticker = input(\"Enter the stock ticker (e.g., AAPL): \")\n",
    "time_period = input(\"Enter the time period (e.g., 1y, 5y, 1mo): \")\n",
    "\n",
    "# Construct the file path using user input\n",
    "file_path = f\"../data/raw/{ticker}_{time_period}.csv\"\n",
    "print(f\"Loading data from: {file_path}\")\n",
    "\n",
    "# Load and process the data\n",
    "try:\n",
    "    df = pd.read_csv(file_path, index_col=0, parse_dates=True)\n",
    "    df_features = prepare_features(df)\n",
    "    print(f\"✅ Processed {len(df_features)} rows with features for {ticker} over {time_period}\")\n",
    "except FileNotFoundError:\n",
    "    print(f\"❌ Error: File not found for ticker '{ticker}' and period '{time_period}'. Please check the inputs and ensure the file exists.\")\n",
    "    df_features = None  # Set df_features to None to handle the error gracefully"
   ]
  },
  {
   "cell_type": "code",
   "execution_count": null,
   "id": "ae69a452",
   "metadata": {
    "vscode": {
     "languageId": "plaintext"
    }
   },
   "outputs": [],
   "source": [
    "import matplotlib.pyplot as plt\n",
    "\n",
    "if df_features is not None:\n",
    "    plt.figure(figsize=(15, 10))\n",
    "\n",
    "    # Plot 1: Stock Price\n",
    "    plt.subplot(2, 1, 1)\n",
    "    plt.plot(df_features.index, df_features['Close'])\n",
    "    plt.title(f\"{ticker} Stock Price over {time_period}\")\n",
    "    plt.ylabel(\"Price\")\n",
    "    plt.xlabel(\"Date\")\n",
    "\n",
    "    # Plot 2: Target Distribution\n",
    "    plt.subplot(2, 1, 2)\n",
    "    df_features['target'].value_counts().plot(kind='bar')\n",
    "    plt.title(f\"Target Distribution for {ticker} over {time_period}\")\n",
    "    plt.xlabel(\"Price Change (1: Up, 0: Down)\")\n",
    "    plt.ylabel(\"Count\")\n",
    "\n",
    "    plt.tight_layout()\n",
    "    plt.show()\n",
    "else:\n",
    "    print(\"Cannot visualize data: An error occurred during the data loading step.\")"
   ]
  }
 ],
 "metadata": {
  "kernelspec": {
   "display_name": "Python 3 (ipykernel)",
   "language": "python",
   "name": "python3"
  },
  "language_info": {
   "codemirror_mode": {
    "name": "ipython",
    "version": 3
   },
   "file_extension": ".py",
   "mimetype": "text/x-python",
   "name": "python",
   "nbconvert_exporter": "python",
   "pygments_lexer": "ipython3",
   "version": "3.13.6"
  }
 },
 "nbformat": 4,
 "nbformat_minor": 5
}
