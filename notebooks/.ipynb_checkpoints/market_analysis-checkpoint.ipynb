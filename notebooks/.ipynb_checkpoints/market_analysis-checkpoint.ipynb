{
 "cells": [
  {
   "cell_type": "code",
   "execution_count": null,
   "id": "1f507746",
   "metadata": {
    "vscode": {
     "languageId": "plaintext"
    }
   },
   "outputs": [],
   "source": [
    "# Setup\n",
    "import sys\n",
    "sys.path.append('../src')\n",
    "\n",
    "import pandas as pd\n",
    "import numpy as np\n",
    "import matplotlib.pyplot as plt\n",
    "import seaborn as sns\n",
    "from data_collection import StockDataCollector\n",
    "from feature_engineering import FeatureEngineer\n",
    "from model_training import MarketPatternModel"
   ]
  },
  {
   "cell_type": "code",
   "execution_count": null,
   "id": "18929015",
   "metadata": {
    "vscode": {
     "languageId": "plaintext"
    }
   },
   "outputs": [],
   "source": [
    "# Download Data\n",
    "collector = StockDataCollector()\n",
    "symbols = ['AAPL', 'GOOGL', 'MSFT', 'TSLA']\n",
    "for symbol in symbols:\n",
    "    collector.download_stock_data(symbol)"
   ]
  },
  {
   "cell_type": "code",
   "execution_count": null,
   "id": "97c30fb2",
   "metadata": {
    "vscode": {
     "languageId": "plaintext"
    }
   },
   "outputs": [],
   "source": [
    "# Feature Engineering\n",
    "engineer = FeatureEngineer()\n",
    "df = pd.read_csv('../data/raw/AAPL_2y.csv', index_col=0, parse_dates=True)\n",
    "df_features = engineer.prepare_features(df)"
   ]
  },
  {
   "cell_type": "code",
   "execution_count": null,
   "id": "1e67e71a",
   "metadata": {
    "vscode": {
     "languageId": "plaintext"
    }
   },
   "outputs": [],
   "source": [
    "# Visualize Features\n",
    "plt.figure(figsize=(15, 10))\n",
    "\n",
    "# Price and indicators\n",
    "plt.subplot(3, 1, 1)\n",
    "plt.plot(df_features.index, df_features['Close'], label='Close Price')\n",
    "plt.plot(df_features.index, df_features['SMA_20'], label='SMA 20')\n",
    "plt.plot(df_features.index, df_features['SMA_50'], label='SMA 50')\n",
    "plt.legend()\n",
    "\n",
    "# RSI\n",
    "plt.subplot(3, 1, 2)\n",
    "plt.plot(df_features.index, df_features['RSI'])\n",
    "plt.axhline(y=70, color='r', linestyle='--')\n",
    "plt.axhline(y=30, color='g', linestyle='--')\n",
    "plt.title('RSI')\n",
    "\n",
    "# Target distribution\n",
    "plt.subplot(3, 1, 3)\n",
    "df_features['target'].value_counts().plot(kind='bar')\n",
    "plt.title('Target Distribution')\n",
    "\n",
    "plt.tight_layout()\n",
    "plt.show()"
   ]
  },
  {
   "cell_type": "code",
   "execution_count": null,
   "id": "b9ca90c8",
   "metadata": {
    "vscode": {
     "languageId": "plaintext"
    }
   },
   "outputs": [],
   "source": [
    "# Train Model\n",
    "model = MarketPatternModel()\n",
    "results = model.train_model('AAPL')"
   ]
  }
 ],
 "metadata": {
  "language_info": {
   "name": "python"
  }
 },
 "nbformat": 4,
 "nbformat_minor": 5
}
